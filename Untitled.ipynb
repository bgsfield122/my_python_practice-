{
 "cells": [
  {
   "cell_type": "code",
   "execution_count": 1,
   "id": "e21fe73c",
   "metadata": {},
   "outputs": [],
   "source": [
    "import pandas as pd"
   ]
  },
  {
   "cell_type": "code",
   "execution_count": 5,
   "id": "863a7ec5",
   "metadata": {},
   "outputs": [
    {
     "name": "stdout",
     "output_type": "stream",
     "text": [
      "I am Oluwagbenga Balogun\n",
      "0----\n",
      "////\n",
      "**********\n"
     ]
    },
    {
     "data": {
      "text/plain": [
       "20"
      ]
     },
     "execution_count": 5,
     "metadata": {},
     "output_type": "execute_result"
    }
   ],
   "source": [
    "print(\"I am Oluwagbenga Balogun\")\n",
    "print(\"0----\")\n",
    "print(\"////\")\n",
    "print('*' *10)\n",
    "2 * 10"
   ]
  },
  {
   "cell_type": "code",
   "execution_count": 6,
   "id": "af35e78e",
   "metadata": {},
   "outputs": [
    {
     "name": "stdout",
     "output_type": "stream",
     "text": [
      "10\n"
     ]
    }
   ],
   "source": [
    "price=10\n",
    "print(price)"
   ]
  },
  {
   "cell_type": "code",
   "execution_count": null,
   "id": "5e723114",
   "metadata": {},
   "outputs": [],
   "source": [
    "price=20\n",
    "price\n",
    "\n",
    "print(price)"
   ]
  },
  {
   "cell_type": "code",
   "execution_count": 8,
   "id": "e37da690",
   "metadata": {},
   "outputs": [
    {
     "data": {
      "text/plain": [
       "200"
      ]
     },
     "execution_count": 8,
     "metadata": {},
     "output_type": "execute_result"
    }
   ],
   "source": [
    "price*10"
   ]
  },
  {
   "cell_type": "code",
   "execution_count": null,
   "id": "2f857c10",
   "metadata": {},
   "outputs": [],
   "source": [
    "name = 'Oluwagbenga'\n",
    "is_published= True \n",
    "print(\"name\")\n",
    "name * 5"
   ]
  },
  {
   "cell_type": "code",
   "execution_count": null,
   "id": "ecda7e24",
   "metadata": {},
   "outputs": [],
   "source": [
    "Full_name = 'John Smith'\n",
    "age = 20\n",
    "is_new_student = True\n",
    "\n",
    "\n"
   ]
  },
  {
   "cell_type": "code",
   "execution_count": 17,
   "id": "416dbbc2",
   "metadata": {},
   "outputs": [
    {
     "name": "stdout",
     "output_type": "stream",
     "text": [
      "what is your name ?   Oluwagbenga\n",
      "Hi Oluwagbenga\n"
     ]
    }
   ],
   "source": [
    "name =input('what is your name ?  ' )\n",
    "print('Hi' + name)"
   ]
  },
  {
   "cell_type": "code",
   "execution_count": null,
   "id": "d09d40d9",
   "metadata": {},
   "outputs": [],
   "source": [
    "weight_lbs=input('weight (lbs):')\n",
    "weight_kg= weight_lbs*0.42\n",
    "print(weight_kg)\n",
    "\n",
    "    "
   ]
  },
  {
   "cell_type": "code",
   "execution_count": null,
   "id": "28f1580a",
   "metadata": {},
   "outputs": [],
   "source": [
    "birth_year= input('birth_year :')\n",
    "type(b)\n",
    "age= 2022 - ('birth_year')\n",
    "print(age)"
   ]
  },
  {
   "cell_type": "code",
   "execution_count": null,
   "id": "9efe05df",
   "metadata": {},
   "outputs": [],
   "source": [
    "Message= ''' \n",
    "Hello Cythia , i just want to check on you since we haven't hear from you in day\n",
    "Thanks \n",
    "Oluwagbega\n",
    "\n",
    "\n",
    "'''\n",
    "print(Message)\n"
   ]
  },
  {
   "cell_type": "code",
   "execution_count": null,
   "id": "c74bace6",
   "metadata": {},
   "outputs": [],
   "source": []
  }
 ],
 "metadata": {
  "kernelspec": {
   "display_name": "Python 3 (ipykernel)",
   "language": "python",
   "name": "python3"
  },
  "language_info": {
   "codemirror_mode": {
    "name": "ipython",
    "version": 3
   },
   "file_extension": ".py",
   "mimetype": "text/x-python",
   "name": "python",
   "nbconvert_exporter": "python",
   "pygments_lexer": "ipython3",
   "version": "3.9.7"
  }
 },
 "nbformat": 4,
 "nbformat_minor": 5
}
