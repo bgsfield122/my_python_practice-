{
 "cells": [
  {
   "cell_type": "code",
   "execution_count": 1,
   "id": "3bdb0687",
   "metadata": {},
   "outputs": [],
   "source": [
    "import pandas as pd"
   ]
  },
  {
   "cell_type": "code",
   "execution_count": 2,
   "id": "4c6e4d68",
   "metadata": {},
   "outputs": [
    {
     "data": {
      "text/plain": [
       "True"
      ]
     },
     "execution_count": 2,
     "metadata": {},
     "output_type": "execute_result"
    }
   ],
   "source": [
    "5 < 7"
   ]
  },
  {
   "cell_type": "code",
   "execution_count": 3,
   "id": "c6ac4267",
   "metadata": {},
   "outputs": [
    {
     "data": {
      "text/plain": [
       "'racecar'"
      ]
     },
     "execution_count": 3,
     "metadata": {},
     "output_type": "execute_result"
    }
   ],
   "source": [
    "\"race\" + \"car\""
   ]
  },
  {
   "cell_type": "code",
   "execution_count": 4,
   "id": "336eb949",
   "metadata": {},
   "outputs": [
    {
     "data": {
      "text/plain": [
       "'adeboy'"
      ]
     },
     "execution_count": 4,
     "metadata": {},
     "output_type": "execute_result"
    }
   ],
   "source": [
    "\"ade\" + \"boy\""
   ]
  },
  {
   "cell_type": "code",
   "execution_count": 5,
   "id": "578bbf6a",
   "metadata": {},
   "outputs": [
    {
     "data": {
      "text/plain": [
       "'solasolasolasola'"
      ]
     },
     "execution_count": 5,
     "metadata": {},
     "output_type": "execute_result"
    }
   ],
   "source": [
    "\"sola\" * 4"
   ]
  },
  {
   "cell_type": "code",
   "execution_count": 6,
   "id": "2d703af7",
   "metadata": {},
   "outputs": [
    {
     "data": {
      "text/plain": [
       "'ola,ola,ola,ola,ola,ola,ola,ola,ola,ola,'"
      ]
     },
     "execution_count": 6,
     "metadata": {},
     "output_type": "execute_result"
    }
   ],
   "source": [
    "\"ola,\" * 10"
   ]
  },
  {
   "cell_type": "code",
   "execution_count": 7,
   "id": "8f2178b7",
   "metadata": {},
   "outputs": [
    {
     "data": {
      "text/plain": [
       "2"
      ]
     },
     "execution_count": 7,
     "metadata": {},
     "output_type": "execute_result"
    }
   ],
   "source": [
    "14 % 3"
   ]
  },
  {
   "cell_type": "code",
   "execution_count": 9,
   "id": "9dd3237d",
   "metadata": {},
   "outputs": [
    {
     "data": {
      "text/plain": [
       "True"
      ]
     },
     "execution_count": 9,
     "metadata": {},
     "output_type": "execute_result"
    }
   ],
   "source": [
    "11==11\n",
    "11==11.0"
   ]
  },
  {
   "cell_type": "code",
   "execution_count": 10,
   "id": "345c7054",
   "metadata": {},
   "outputs": [
    {
     "data": {
      "text/plain": [
       "False"
      ]
     },
     "execution_count": 10,
     "metadata": {},
     "output_type": "execute_result"
    }
   ],
   "source": [
    "5!=5"
   ]
  },
  {
   "cell_type": "code",
   "execution_count": 11,
   "id": "36b4e51d",
   "metadata": {},
   "outputs": [
    {
     "data": {
      "text/plain": [
       "True"
      ]
     },
     "execution_count": 11,
     "metadata": {},
     "output_type": "execute_result"
    }
   ],
   "source": [
    "\"goodbye\"!=\"welcome\""
   ]
  },
  {
   "cell_type": "code",
   "execution_count": 14,
   "id": "85fc7787",
   "metadata": {},
   "outputs": [],
   "source": [
    " age = 12"
   ]
  },
  {
   "cell_type": "code",
   "execution_count": 15,
   "id": "56cceef7",
   "metadata": {},
   "outputs": [
    {
     "data": {
      "text/plain": [
       "12"
      ]
     },
     "execution_count": 15,
     "metadata": {},
     "output_type": "execute_result"
    }
   ],
   "source": [
    "age"
   ]
  },
  {
   "cell_type": "code",
   "execution_count": 16,
   "id": "4e193e8f",
   "metadata": {},
   "outputs": [
    {
     "data": {
      "text/plain": [
       "18"
      ]
     },
     "execution_count": 16,
     "metadata": {},
     "output_type": "execute_result"
    }
   ],
   "source": [
    "age + 6"
   ]
  },
  {
   "cell_type": "code",
   "execution_count": 25,
   "id": "a61a0097",
   "metadata": {},
   "outputs": [],
   "source": [
    "price = 19.99\n",
    "first_name = \"Boris\"\n",
    "profession = \"software engineer\"\n",
    "is_handsome = True \n",
    "\n",
    "#snake_case"
   ]
  },
  {
   "cell_type": "code",
   "execution_count": 91,
   "id": "6302bc80",
   "metadata": {},
   "outputs": [
    {
     "data": {
      "text/plain": [
       "'Boris'"
      ]
     },
     "execution_count": 91,
     "metadata": {},
     "output_type": "execute_result"
    }
   ],
   "source": [
    "first_name"
   ]
  },
  {
   "cell_type": "code",
   "execution_count": 26,
   "id": "d7a5aa67",
   "metadata": {},
   "outputs": [
    {
     "data": {
      "text/plain": [
       "True"
      ]
     },
     "execution_count": 26,
     "metadata": {},
     "output_type": "execute_result"
    }
   ],
   "source": [
    "is_handsome"
   ]
  },
  {
   "cell_type": "code",
   "execution_count": 30,
   "id": "710c54dc",
   "metadata": {},
   "outputs": [
    {
     "data": {
      "text/plain": [
       "'Boris'"
      ]
     },
     "execution_count": 30,
     "metadata": {},
     "output_type": "execute_result"
    }
   ],
   "source": [
    "first_name"
   ]
  },
  {
   "cell_type": "code",
   "execution_count": 31,
   "id": "17f6d49e",
   "metadata": {},
   "outputs": [
    {
     "data": {
      "text/plain": [
       "19.99"
      ]
     },
     "execution_count": 31,
     "metadata": {},
     "output_type": "execute_result"
    }
   ],
   "source": [
    "price"
   ]
  },
  {
   "cell_type": "code",
   "execution_count": 35,
   "id": "7d120e21",
   "metadata": {},
   "outputs": [
    {
     "data": {
      "text/plain": [
       "34"
      ]
     },
     "execution_count": 35,
     "metadata": {},
     "output_type": "execute_result"
    }
   ],
   "source": [
    "len(\"How many variables do we have here\")"
   ]
  },
  {
   "cell_type": "code",
   "execution_count": 37,
   "id": "dfbf0f0d",
   "metadata": {},
   "outputs": [
    {
     "data": {
      "text/plain": [
       "10"
      ]
     },
     "execution_count": 37,
     "metadata": {},
     "output_type": "execute_result"
    }
   ],
   "source": [
    "int(\"10\")"
   ]
  },
  {
   "cell_type": "code",
   "execution_count": 39,
   "id": "927239fb",
   "metadata": {},
   "outputs": [
    {
     "data": {
      "text/plain": [
       "10.0"
      ]
     },
     "execution_count": 39,
     "metadata": {},
     "output_type": "execute_result"
    }
   ],
   "source": [
    "float (\"10\")"
   ]
  },
  {
   "cell_type": "code",
   "execution_count": 41,
   "id": "151db230",
   "metadata": {},
   "outputs": [
    {
     "data": {
      "text/plain": [
       "int"
      ]
     },
     "execution_count": 41,
     "metadata": {},
     "output_type": "execute_result"
    }
   ],
   "source": [
    "type (10)"
   ]
  },
  {
   "cell_type": "code",
   "execution_count": 43,
   "id": "ec454eca",
   "metadata": {},
   "outputs": [
    {
     "data": {
      "text/plain": [
       "str"
      ]
     },
     "execution_count": 43,
     "metadata": {},
     "output_type": "execute_result"
    }
   ],
   "source": [
    "type (\"aramoko\")"
   ]
  },
  {
   "cell_type": "code",
   "execution_count": 44,
   "id": "d83c1728",
   "metadata": {},
   "outputs": [
    {
     "data": {
      "text/plain": [
       "bool"
      ]
     },
     "execution_count": 44,
     "metadata": {},
     "output_type": "execute_result"
    }
   ],
   "source": [
    "type (True)"
   ]
  },
  {
   "cell_type": "code",
   "execution_count": 45,
   "id": "5323700a",
   "metadata": {},
   "outputs": [
    {
     "data": {
      "text/plain": [
       "bool"
      ]
     },
     "execution_count": 45,
     "metadata": {},
     "output_type": "execute_result"
    }
   ],
   "source": [
    "type (False)"
   ]
  },
  {
   "cell_type": "code",
   "execution_count": 46,
   "id": "55136990",
   "metadata": {},
   "outputs": [
    {
     "data": {
      "text/plain": [
       "False"
      ]
     },
     "execution_count": 46,
     "metadata": {},
     "output_type": "execute_result"
    }
   ],
   "source": [
    "type (10)== type (\"10\")"
   ]
  },
  {
   "cell_type": "code",
   "execution_count": 56,
   "id": "19b4b5f2",
   "metadata": {},
   "outputs": [],
   "source": [
    "def convert_to_fahrenheit(celsius_temp):\n",
    "    product = celsius_temp * 1.8\n",
    "    return product + 32\n",
    "    "
   ]
  },
  {
   "cell_type": "code",
   "execution_count": 57,
   "id": "28b2c136",
   "metadata": {},
   "outputs": [
    {
     "data": {
      "text/plain": [
       "35.6"
      ]
     },
     "execution_count": 57,
     "metadata": {},
     "output_type": "execute_result"
    }
   ],
   "source": [
    "convert_to_fahrenheit(2)"
   ]
  },
  {
   "cell_type": "code",
   "execution_count": 62,
   "id": "089b6527",
   "metadata": {},
   "outputs": [
    {
     "data": {
      "text/plain": [
       "32.0"
      ]
     },
     "execution_count": 62,
     "metadata": {},
     "output_type": "execute_result"
    }
   ],
   "source": [
    "convert_to_fahrenheit(0)"
   ]
  },
  {
   "cell_type": "code",
   "execution_count": 63,
   "id": "fb9132f7",
   "metadata": {},
   "outputs": [],
   "source": [
    "def convert_to_grams(kilograms):\n",
    "    product = kilograms * 4\n",
    "    return product + 5"
   ]
  },
  {
   "cell_type": "code",
   "execution_count": 64,
   "id": "00a028ac",
   "metadata": {},
   "outputs": [
    {
     "data": {
      "text/plain": [
       "21"
      ]
     },
     "execution_count": 64,
     "metadata": {},
     "output_type": "execute_result"
    }
   ],
   "source": [
    "convert_to_grams(4)"
   ]
  },
  {
   "cell_type": "code",
   "execution_count": 66,
   "id": "290864b3",
   "metadata": {},
   "outputs": [],
   "source": [
    "def convert_to_feet(meters):\n",
    "    product = meters - 7\n",
    "    return product * 10"
   ]
  },
  {
   "cell_type": "code",
   "execution_count": 67,
   "id": "0aa152d6",
   "metadata": {},
   "outputs": [
    {
     "data": {
      "text/plain": [
       "30"
      ]
     },
     "execution_count": 67,
     "metadata": {},
     "output_type": "execute_result"
    }
   ],
   "source": [
    "convert_to_feet(10)"
   ]
  },
  {
   "cell_type": "code",
   "execution_count": 71,
   "id": "f7defbc5",
   "metadata": {},
   "outputs": [
    {
     "data": {
      "text/plain": [
       "3"
      ]
     },
     "execution_count": 71,
     "metadata": {},
     "output_type": "execute_result"
    }
   ],
   "source": [
    "len(\"ade\")"
   ]
  },
  {
   "cell_type": "code",
   "execution_count": 75,
   "id": "54916403",
   "metadata": {},
   "outputs": [
    {
     "data": {
      "text/plain": [
       "False"
      ]
     },
     "execution_count": 75,
     "metadata": {},
     "output_type": "execute_result"
    }
   ],
   "source": [
    "\"Goodbye\"!=\"Goodbye\""
   ]
  },
  {
   "cell_type": "code",
   "execution_count": 77,
   "id": "a2e793a8",
   "metadata": {},
   "outputs": [
    {
     "data": {
      "text/plain": [
       "30"
      ]
     },
     "execution_count": 77,
     "metadata": {},
     "output_type": "execute_result"
    }
   ],
   "source": [
    "len (\"yyyyyyyyyyyyyyyyyyyyyyyyyyyyyy\")"
   ]
  },
  {
   "cell_type": "code",
   "execution_count": 81,
   "id": "bc9c9f4d",
   "metadata": {},
   "outputs": [
    {
     "data": {
      "text/plain": [
       "False"
      ]
     },
     "execution_count": 81,
     "metadata": {},
     "output_type": "execute_result"
    }
   ],
   "source": [
    "50!=50"
   ]
  },
  {
   "cell_type": "code",
   "execution_count": 82,
   "id": "4daf86f6",
   "metadata": {},
   "outputs": [
    {
     "data": {
      "text/plain": [
       "12"
      ]
     },
     "execution_count": 82,
     "metadata": {},
     "output_type": "execute_result"
    }
   ],
   "source": [
    "age"
   ]
  },
  {
   "cell_type": "code",
   "execution_count": 83,
   "id": "0f29a21f",
   "metadata": {},
   "outputs": [
    {
     "data": {
      "text/plain": [
       "19.99"
      ]
     },
     "execution_count": 83,
     "metadata": {},
     "output_type": "execute_result"
    }
   ],
   "source": [
    "price"
   ]
  },
  {
   "cell_type": "code",
   "execution_count": 86,
   "id": "26377228",
   "metadata": {},
   "outputs": [
    {
     "data": {
      "text/plain": [
       "239.88"
      ]
     },
     "execution_count": 86,
     "metadata": {},
     "output_type": "execute_result"
    }
   ],
   "source": [
    "price * age "
   ]
  },
  {
   "cell_type": "code",
   "execution_count": 87,
   "id": "1696fb32",
   "metadata": {},
   "outputs": [
    {
     "data": {
      "text/plain": [
       "1"
      ]
     },
     "execution_count": 87,
     "metadata": {},
     "output_type": "execute_result"
    }
   ],
   "source": [
    "19 % 3"
   ]
  },
  {
   "cell_type": "code",
   "execution_count": 90,
   "id": "5623de2b",
   "metadata": {},
   "outputs": [
    {
     "data": {
      "text/plain": [
       "1"
      ]
     },
     "execution_count": 90,
     "metadata": {},
     "output_type": "execute_result"
    }
   ],
   "source": [
    "16%3"
   ]
  },
  {
   "cell_type": "code",
   "execution_count": 92,
   "id": "891ac8bc",
   "metadata": {},
   "outputs": [
    {
     "data": {
      "text/plain": [
       "'BORIS'"
      ]
     },
     "execution_count": 92,
     "metadata": {},
     "output_type": "execute_result"
    }
   ],
   "source": [
    "first_name.upper()"
   ]
  },
  {
   "cell_type": "code",
   "execution_count": null,
   "id": "4b5aa33e",
   "metadata": {},
   "outputs": [],
   "source": []
  }
 ],
 "metadata": {
  "kernelspec": {
   "display_name": "Python 3 (ipykernel)",
   "language": "python",
   "name": "python3"
  },
  "language_info": {
   "codemirror_mode": {
    "name": "ipython",
    "version": 3
   },
   "file_extension": ".py",
   "mimetype": "text/x-python",
   "name": "python",
   "nbconvert_exporter": "python",
   "pygments_lexer": "ipython3",
   "version": "3.9.7"
  }
 },
 "nbformat": 4,
 "nbformat_minor": 5
}
